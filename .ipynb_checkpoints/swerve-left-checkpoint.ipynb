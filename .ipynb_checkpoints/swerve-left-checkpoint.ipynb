{
 "cells": [
  {
   "cell_type": "code",
   "execution_count": 3,
   "id": "0aa2b5ec",
   "metadata": {},
   "outputs": [],
   "source": [
    "import yake"
   ]
  },
  {
   "cell_type": "code",
   "execution_count": 4,
   "id": "0f4b653b",
   "metadata": {},
   "outputs": [],
   "source": [
    "guardian_article = \"Vladimir Putin and his inner political circle are “mirroring the fascism” of the Nazis through the invasion of Ukraine, the UK defence secretary will say on Monday morning ahead of the Kremlin’s annual military parade. Ben Wallace is also expected to accuse President Putin of hijacking the annual commemoration of the Soviet Union’s victory over Nazi Germany – and to say the country’s senior politicians and generals are complicit. “Through their invasion of Ukraine, Putin, his inner circle and generals are now mirroring the fascism and tyranny of 70 years ago, repeating the errors of last century’s totalitarian regimes,” Wallace will say in a speech at the National Army Museum in London. “Their unprovoked and illegal invasion of Ukraine, attacks against innocent citizens and their homes, and the widespread atrocities – including deliberately against women and children – corrupts the memory of past sacrifices and Russia’s once-proud global reputation.” Soldiers and tanks not fighting in Ukraine will parade through Moscow and other Russian cities on Monday for the annual Victory Day parades, events that have taken on an increasing importance during Putin’s 20 years in charge. But Wallace is expected to say that it is the presence of army generals that is particularly inappropriate, because they allow the Kremlin to make a false equivalence between the anti-fascist struggle of the second world war and the unprovoked attack on democratic Ukraine. “Let’s call out the absurdity of Russian generals – resplendent in their manicured parade uniforms and weighed down by their many medals – for being utterly complicit in Putin’s hijacking of their forebears’ proud history of defending against a ruthless invasion; of repelling fascism; of sacrificing themselves for a higher purpose,” the defence secretary is expected to say. Professional soldiers should also be appalled at the behaviour of Russia’s army, Wallace will add. Moscow’s forces have been accused of repeatedly bombing civilians, while failing to achieve the military objectives that had been set. “Not only are they engaged in an illegal invasion and war crimes, but their top brass have failed their own rank and file to the extent they should be court-martialled,” he will say. Russia’s military has become bogged down in Ukraine after more than two months fighting, including an aborted attempt to capture the capital Kyiv, and are trying to mass forces in the east to make territorial gains in attritional fighting in the Donbas region.\""
   ]
  },
  {
   "cell_type": "code",
   "execution_count": 15,
   "id": "cb80460d",
   "metadata": {},
   "outputs": [],
   "source": [
    "kw_extractor = yake.KeywordExtractor()\n",
    "text = guardian_article\n",
    "language = \"en\"\n",
    "max_ngram_size = 1\n",
    "deduplication_threshold = 0.1\n",
    "numOfKeywords = 15\n",
    "custom_kw_extrctor = yake.KeywordExtractor(lan=language, n=max_ngram_size, dedupLim=deduplication_threshold, top=numOfKeywords, features=None)"
   ]
  },
  {
   "cell_type": "code",
   "execution_count": 16,
   "id": "6717aee2",
   "metadata": {},
   "outputs": [],
   "source": [
    "keywords = kw_extractor.extract_keywords(text)"
   ]
  },
  {
   "cell_type": "code",
   "execution_count": 17,
   "id": "e1e07be2",
   "metadata": {},
   "outputs": [
    {
     "name": "stdout",
     "output_type": "stream",
     "text": [
      "('Monday morning ahead', 0.006310859100404126)\n",
      "('accuse President Putin', 0.012816870216631408)\n",
      "('Nazi Germany', 0.020509084741108078)\n",
      "('Vladimir Putin', 0.022815676880380446)\n",
      "('annual Victory Day', 0.025885204766558013)\n",
      "('Ukraine', 0.025983715963508056)\n",
      "('National Army Museum', 0.02706073816774386)\n",
      "('President Putin', 0.027141449235230534)\n",
      "('Putin', 0.02775529891686974)\n",
      "('morning ahead', 0.02991646139862807)\n",
      "('Monday morning', 0.0350593807637003)\n",
      "('Soviet Union', 0.03761939536793928)\n",
      "('invasion of Ukraine', 0.0431499838867329)\n",
      "('Victory Day parades', 0.044112379800453065)\n",
      "('Wallace', 0.04592752889393183)\n",
      "('annual military parade', 0.04954232428760377)\n",
      "('invasion', 0.050747554469070574)\n",
      "('political circle', 0.051921650176247135)\n",
      "('Museum in London', 0.06710798762253659)\n",
      "('illegal invasion', 0.06921167603958293)\n"
     ]
    }
   ],
   "source": [
    "for kw in keywords:\n",
    "    print(kw)"
   ]
  },
  {
   "cell_type": "code",
   "execution_count": 21,
   "id": "75a089bf",
   "metadata": {},
   "outputs": [],
   "source": [
    "import RAKE\n",
    "import operator"
   ]
  },
  {
   "cell_type": "code",
   "execution_count": null,
   "id": "21b25cf4",
   "metadata": {},
   "outputs": [],
   "source": []
  }
 ],
 "metadata": {
  "kernelspec": {
   "display_name": "Python 3 (ipykernel)",
   "language": "python",
   "name": "python3"
  },
  "language_info": {
   "codemirror_mode": {
    "name": "ipython",
    "version": 3
   },
   "file_extension": ".py",
   "mimetype": "text/x-python",
   "name": "python",
   "nbconvert_exporter": "python",
   "pygments_lexer": "ipython3",
   "version": "3.9.7"
  }
 },
 "nbformat": 4,
 "nbformat_minor": 5
}
