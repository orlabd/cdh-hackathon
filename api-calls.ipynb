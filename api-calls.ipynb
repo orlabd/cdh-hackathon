{
 "cells": [
  {
   "cell_type": "code",
   "execution_count": 86,
   "id": "0e77a7ca",
   "metadata": {},
   "outputs": [],
   "source": [
    "import ox\n",
    "import random"
   ]
  },
  {
   "cell_type": "code",
   "execution_count": 17,
   "id": "e38291ce",
   "metadata": {},
   "outputs": [],
   "source": [
    "api = ox.API('https://archive.leftove.rs/api/')"
   ]
  },
  {
   "cell_type": "code",
   "execution_count": 48,
   "id": "807b2abe",
   "metadata": {},
   "outputs": [],
   "source": [
    "keyword = \"communism\""
   ]
  },
  {
   "cell_type": "code",
   "execution_count": 83,
   "id": "80f328aa",
   "metadata": {},
   "outputs": [],
   "source": [
    "item = api.findDocuments(\n",
    "    {\"keys\":[\"id\"],\n",
    "     \"query\":{\"conditions\":[{\"key\":\"*\",\"value\":keyword,\"operator\":\"=\"}],\"operator\":\"&\"}})"
   ]
  },
  {
   "cell_type": "code",
   "execution_count": 88,
   "id": "38d95244",
   "metadata": {},
   "outputs": [
    {
     "name": "stdout",
     "output_type": "stream",
     "text": [
      "['AIWG', 'AIVI', 'AIUX', 'AHBP', 'AIVZ', 'SOE', 'RLC', 'UUA', 'UUB', 'UUJ', 'UUO', 'UUQ', 'UUV', 'UVF', 'UUR', 'SAI', 'UBE', 'UVQ', 'UVR', 'UVS', 'UVZ', 'UXC', 'UXB', 'UXE', 'UXG', 'UXH', 'UXR', 'QJA', 'OKR', 'STC', 'UXW', 'UXX', 'UXZ', 'UYE', 'UYG', 'UYI', 'OUE', 'TDU', 'SWK', 'UOY', 'RKO', 'SQI', 'RWD', 'UNQ', 'PPN', 'TKA', 'OZD', 'OTK', 'RQH', 'STP', 'UAW', 'TMU', 'REG', 'SVB', 'RGV', 'RGY', 'OPR', 'RYT', 'RPI', 'TQG', 'TNN', 'OPD', 'QGE', 'RKP', 'ONA', 'SEU', 'PCB', 'UYL', 'UYM', 'UYS', 'UZA', 'UZB', 'UZC', 'UZD', 'UZF', 'PDD', 'TUW', 'SPZ', 'VAE', 'VAF', 'RZS', 'TGQ', 'OSJ', 'UMW', 'TJQ', 'ORT', 'UNV', 'SJF', 'QZD', 'PVL', 'QNB', 'VAQ', 'UBK', 'VAU', 'SDM', 'VAZ', 'UAK', 'SZS', 'URA', 'ONN']\n"
     ]
    }
   ],
   "source": [
    "json_length = len(item[\"data\"][\"items\"])\n",
    "id_list = []\n",
    "\n",
    "for i in range(json_length):\n",
    "    id_list.append(item[\"data\"][\"items\"][i][\"id\"])\n",
    "    \n",
    "print(id_list)"
   ]
  },
  {
   "cell_type": "code",
   "execution_count": 108,
   "id": "8548b1c6",
   "metadata": {},
   "outputs": [
    {
     "name": "stderr",
     "output_type": "stream",
     "text": [
      "\n",
      "\n",
      "====== WebDriver manager ======\n",
      "Current google-chrome version is 101.0.4951\n",
      "Get LATEST chromedriver version for 101.0.4951 google-chrome\n",
      "Driver [/Users/orladelaney/.wdm/drivers/chromedriver/mac64_m1/101.0.4951.41/chromedriver] found in cache\n"
     ]
    },
    {
     "name": "stdout",
     "output_type": "stream",
     "text": [
      "/static/pdf.js/?file=%2Fdocuments%2FUBK%2FBase%20publication%20-%20issue%20_2.pdf#page=1\n"
     ]
    }
   ],
   "source": [
    "import requests\n",
    "from bs4 import BeautifulSoup\n",
    "from selenium import webdriver\n",
    "from selenium.webdriver.chrome.service import Service\n",
    "from webdriver_manager.chrome import ChromeDriverManager\n",
    "import time\n",
    "\n",
    "url = \"https://archive.leftove.rs/documents/\" + str(example_id)\n",
    "driver = webdriver.Chrome(service=Service(ChromeDriverManager().install()))\n",
    "driver.get(url)\n",
    "\n",
    "time.sleep(5) \n",
    "  \n",
    "html = driver.page_source\n",
    "soup = BeautifulSoup(html, \"html.parser\")\n",
    "\n",
    "file_name = soup.find('iframe')[\"src\"]\n",
    "\n",
    "print(file_name)"
   ]
  }
 ],
 "metadata": {
  "kernelspec": {
   "display_name": "Python 3 (ipykernel)",
   "language": "python",
   "name": "python3"
  },
  "language_info": {
   "codemirror_mode": {
    "name": "ipython",
    "version": 3
   },
   "file_extension": ".py",
   "mimetype": "text/x-python",
   "name": "python",
   "nbconvert_exporter": "python",
   "pygments_lexer": "ipython3",
   "version": "3.9.7"
  }
 },
 "nbformat": 4,
 "nbformat_minor": 5
}
